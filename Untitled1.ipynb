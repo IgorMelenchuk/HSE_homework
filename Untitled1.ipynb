{
 "cells": [
  {
   "cell_type": "code",
   "execution_count": null,
   "id": "b0092d22-612e-4172-883f-dbc173affe98",
   "metadata": {
    "pycharm": {
     "is_executing": true
    }
   },
   "outputs": [],
   "source": [
    "year = int(input('Введите год: '))\n",
    "if (year % 4 == 0 and (year % 100 != 0 or year % 400 == 0)):\n",
    "    print('Год високосный')\n",
    "else:\n",
    "    print('Обычный год')\n",
    "\n",
    "    "
   ]
  },
  {
   "cell_type": "code",
   "execution_count": 30,
   "id": "7ed7d9c0-d2b4-4940-a86e-141cee98c732",
   "metadata": {},
   "outputs": [
    {
     "name": "stdin",
     "output_type": "stream",
     "text": [
      "Введите год:  2024\n"
     ]
    },
    {
     "name": "stdout",
     "output_type": "stream",
     "text": [
      "Год високосный\n"
     ]
    }
   ],
   "source": [
    "import calendar\n",
    "\n",
    "year = int(input('Введите год: '))\n",
    "if calendar.isleap(year):\n",
    "    print('Год високосный')\n",
    "else:\n",
    "    print('Обычный год')\n"
   ]
  },
  {
   "cell_type": "code",
   "execution_count": 47,
   "id": "d92174de-d07f-443c-8787-988b106335d8",
   "metadata": {},
   "outputs": [
    {
     "name": "stdin",
     "output_type": "stream",
     "text": [
      "Введите число:  авывыыв\n"
     ]
    },
    {
     "name": "stdout",
     "output_type": "stream",
     "text": [
      "Ошибка: введите только цифры.\n"
     ]
    },
    {
     "name": "stdin",
     "output_type": "stream",
     "text": [
      "Введите число:  выавы\n"
     ]
    },
    {
     "name": "stdout",
     "output_type": "stream",
     "text": [
      "Ошибка: введите только цифры.\n"
     ]
    },
    {
     "name": "stdin",
     "output_type": "stream",
     "text": [
      "Введите число:  123321\n"
     ]
    },
    {
     "name": "stdout",
     "output_type": "stream",
     "text": [
      "Билет счастливый\n"
     ]
    }
   ],
   "source": [
    "while True:\n",
    "    user_input = input('Введите число: ')\n",
    "    if user_input.isdigit():\n",
    "        a = int(user_input)\n",
    "        break\n",
    "    else:\n",
    "        print(\"Ошибка: введите только цифры.\")\n",
    "\n",
    "a_str = str(a)\n",
    "\n",
    "if len(a_str) != 6:\n",
    "    print('Число должно содержать ровно 6 цифр')\n",
    "else:\n",
    "    first = a_str[:3]\n",
    "    second = a_str[3:]\n",
    "    \n",
    "    first_sum = sum(int(digit) for digit in first)\n",
    "    second_sum = sum(int(digit) for digit in second)\n",
    "    \n",
    "    \n",
    "    if first_sum == second_sum:\n",
    "        print('Билет счастливый')\n",
    "    else:\n",
    "        print('Несчастливый билет')\n"
   ]
  },
  {
   "cell_type": "code",
   "execution_count": null,
   "id": "cae59b25-3d27-48ca-9188-17f00ce9e53e",
   "metadata": {},
   "outputs": [],
   "source": []
  }
 ],
 "metadata": {
  "kernelspec": {
   "display_name": "Python 3 (ipykernel)",
   "language": "python",
   "name": "python3"
  },
  "language_info": {
   "codemirror_mode": {
    "name": "ipython",
    "version": 3
   },
   "file_extension": ".py",
   "mimetype": "text/x-python",
   "name": "python",
   "nbconvert_exporter": "python",
   "pygments_lexer": "ipython3",
   "version": "3.11.7"
  }
 },
 "nbformat": 4,
 "nbformat_minor": 5
}
